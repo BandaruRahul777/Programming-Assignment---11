{
 "cells": [
  {
   "cell_type": "code",
   "execution_count": null,
   "id": "1e4be70e",
   "metadata": {},
   "outputs": [],
   "source": [
    "Question 1"
   ]
  },
  {
   "cell_type": "code",
   "execution_count": 1,
   "id": "cb9afb4a",
   "metadata": {},
   "outputs": [
    {
     "name": "stdout",
     "output_type": "stream",
     "text": [
      "Enter the string: Trying to solve all the assignments\n",
      "Enter the length of the string: 3\n",
      "Trying,solve,assignments\n"
     ]
    }
   ],
   "source": [
    "def checkLengthOfString():\n",
    "    in_string = input(\"Enter the string: \")\n",
    "    in_length = int(input('Enter the length of the string: '))\n",
    "    out_string = []\n",
    "    for string in in_string.split(\" \"):\n",
    "        if len(string) > in_length:\n",
    "            out_string.append(string)\n",
    "    print(','.join(out_string))\n",
    "\n",
    "checkLengthOfString()"
   ]
  },
  {
   "cell_type": "code",
   "execution_count": null,
   "id": "4991e2ab",
   "metadata": {},
   "outputs": [],
   "source": [
    "Question 2"
   ]
  },
  {
   "cell_type": "code",
   "execution_count": 2,
   "id": "8e3a88ed",
   "metadata": {},
   "outputs": [
    {
     "name": "stdout",
     "output_type": "stream",
     "text": [
      "Enter the String: all\n",
      "Enter the ith Character: 2\n",
      "al\n"
     ]
    }
   ],
   "source": [
    "def removeCharacter():\n",
    "    in_string = input(\"Enter the String: \")\n",
    "    in_char_num = int(input(\"Enter the ith Character: \"))\n",
    "    out_string = ''\n",
    "    for ele in range(len(in_string)):\n",
    "        if ele != in_char_num:\n",
    "            out_string = out_string + in_string[ele]\n",
    "    print(out_string)\n",
    "    \n",
    "removeCharacter()"
   ]
  },
  {
   "cell_type": "code",
   "execution_count": null,
   "id": "fb2782d8",
   "metadata": {},
   "outputs": [],
   "source": [
    "Question 3"
   ]
  },
  {
   "cell_type": "code",
   "execution_count": 3,
   "id": "f1695ab7",
   "metadata": {},
   "outputs": [
    {
     "name": "stdout",
     "output_type": "stream",
     "text": [
      "Enter the string: Full stack data science course\n",
      "Split String: ['Full', 'stack', 'data', 'science', 'course']\n",
      "Join String: Full stack data science course\n"
     ]
    }
   ],
   "source": [
    "def splitJoinString():\n",
    "    in_string = input('Enter the string: ')\n",
    "    print(f\"Split String: {in_string.split(' ')}\")\n",
    "    print(f\"Join String: {' '.join(in_string.split(' '))}\")\n",
    "\n",
    "splitJoinString()"
   ]
  },
  {
   "cell_type": "code",
   "execution_count": null,
   "id": "293b1dca",
   "metadata": {},
   "outputs": [],
   "source": [
    "Question 4"
   ]
  },
  {
   "cell_type": "code",
   "execution_count": 4,
   "id": "771b035d",
   "metadata": {},
   "outputs": [
    {
     "name": "stdout",
     "output_type": "stream",
     "text": [
      "Enter the string: 4321\n",
      "4321 is not a binart string\n",
      "Enter the string: 101010101\n",
      "101010101 is a binary string\n"
     ]
    }
   ],
   "source": [
    "def checkBinary():\n",
    "    in_string = input('Enter the string: ')\n",
    "    stun = 0\n",
    "    for ele in in_string:\n",
    "        if ele in ['0','1']:\n",
    "            stun = 1\n",
    "            continue\n",
    "        else:\n",
    "            stun = 0\n",
    "            break\n",
    "    statement = 'is a binary string' if stun == 1 else 'is not a binart string' \n",
    "    print(f'{in_string} {statement}')\n",
    "\n",
    "checkBinary()\n",
    "checkBinary()"
   ]
  },
  {
   "cell_type": "code",
   "execution_count": null,
   "id": "7a0b9342",
   "metadata": {},
   "outputs": [],
   "source": [
    "Question 5"
   ]
  },
  {
   "cell_type": "code",
   "execution_count": 5,
   "id": "00add138",
   "metadata": {},
   "outputs": [
    {
     "name": "stdout",
     "output_type": "stream",
     "text": [
      "Enter the String 1: Great Learning\n",
      "Enter the String 2: Awesome Learning\n",
      "{'Great', 'Awesome'}\n"
     ]
    }
   ],
   "source": [
    "def unCommonWords():\n",
    "    in_string_1 = set(input(\"Enter the String 1: \").split(' '))\n",
    "    in_string_2 = set(input(\"Enter the String 2: \").split(' '))\n",
    "    out_string = (in_string_1.union(in_string_2)).difference(in_string_1.intersection(in_string_2))\n",
    "    print(out_string)\n",
    "\n",
    "unCommonWords()"
   ]
  },
  {
   "cell_type": "code",
   "execution_count": null,
   "id": "38df3e1a",
   "metadata": {},
   "outputs": [],
   "source": [
    "Question 6"
   ]
  },
  {
   "cell_type": "code",
   "execution_count": 6,
   "id": "9f5874d4",
   "metadata": {},
   "outputs": [
    {
     "name": "stdout",
     "output_type": "stream",
     "text": [
      "Enter the string: Full Stack Data Science Course Provided By Ineuron\n",
      "Duplicate characters are: ['l', 'd', 'n', 'a', 'o', 'c', 'S', 'u', 'e', 't', 'r', 'i', ' ']\n"
     ]
    }
   ],
   "source": [
    "def duplicateChars():\n",
    "    in_string = input('Enter the string: ')\n",
    "    non_duplicate_list = []\n",
    "    duplicate_list = []\n",
    "    for ele in in_string:\n",
    "        if ele not in non_duplicate_list:\n",
    "            non_duplicate_list.append(ele)\n",
    "        else:\n",
    "            duplicate_list.append(ele)\n",
    "    print(f'Duplicate characters are: {list(set(duplicate_list))}')\n",
    "        \n",
    "duplicateChars()"
   ]
  },
  {
   "cell_type": "code",
   "execution_count": null,
   "id": "4eaeb929",
   "metadata": {},
   "outputs": [],
   "source": [
    "Question 7"
   ]
  },
  {
   "cell_type": "code",
   "execution_count": 7,
   "id": "5aee86ba",
   "metadata": {},
   "outputs": [
    {
     "name": "stdout",
     "output_type": "stream",
     "text": [
      "Enter the string: DS @ Ineuron by Sudhanshu & krish\n",
      "There are 2 Speical Characters in DS @ Ineuron by Sudhanshu & krish which are ['@', '&']\n",
      "Enter the string: Trying to solve : Assignments\n",
      "There are 1 Speical Characters in Trying to solve : Assignments which are [':']\n"
     ]
    }
   ],
   "source": [
    "def checkSpecialChar():\n",
    "    spl_chars = '[@_!#$%^&*()<>?/\\|}{~:]'\n",
    "    in_num = input('Enter the string: ')\n",
    "    count = 0\n",
    "    char_list = []\n",
    "    for ele in in_num:\n",
    "        if ele in spl_chars:\n",
    "            char_list.append(ele)\n",
    "            count = count+1\n",
    "    print(f'There are {count} Speical Characters in {in_num} which are {char_list}')\n",
    "            \n",
    "        \n",
    "checkSpecialChar()\n",
    "checkSpecialChar()"
   ]
  }
 ],
 "metadata": {
  "kernelspec": {
   "display_name": "Python 3 (ipykernel)",
   "language": "python",
   "name": "python3"
  },
  "language_info": {
   "codemirror_mode": {
    "name": "ipython",
    "version": 3
   },
   "file_extension": ".py",
   "mimetype": "text/x-python",
   "name": "python",
   "nbconvert_exporter": "python",
   "pygments_lexer": "ipython3",
   "version": "3.9.7"
  }
 },
 "nbformat": 4,
 "nbformat_minor": 5
}
